{
 "cells": [
  {
   "cell_type": "markdown",
   "metadata": {},
   "source": [
    "# ODE Explorer Demo 1: Exponential decay models\n",
    "\n",
    "A small appetizer example to find your way around this library. Introduces the most central components. Let's get to it!"
   ]
  },
  {
   "cell_type": "code",
   "execution_count": 1,
   "metadata": {},
   "outputs": [],
   "source": [
    "import ode_explorer\n",
    "from ode_explorer.models.model import ODEModel\n",
    "from ode_explorer.integrators.integrator import Integrator\n",
    "from ode_explorer.stepfunctions.stepfunctions import RungeKutta4, EulerMethod, DOPRI45\n",
    "from ode_explorer.stepsize_control.stepsizecontroller import DOPRI45Controller\n",
    "from ode_explorer.metrics.metric import DistanceToSolution\n",
    "\n",
    "import numpy as np\n",
    "\n",
    "from typing import Union"
   ]
  },
  {
   "cell_type": "markdown",
   "metadata": {},
   "source": [
    "## Model definition\n",
    "\n",
    "We start with the simplest of models - exponential decay. But do not assume that just because it is simple, it is just a toy example! In fact, the exponential decay model plays an important role in stability analysis of numerical integration methods, where it is also known as the *Dahlquist test equation*.\n",
    "\n",
    "The differential equation for exponential decay with a rate $\\lambda$ reads:\n",
    "\\begin{align}\n",
    "y' &= - \\lambda \\cdot y, \\\\\n",
    "y(0) &= y_0.\n",
    "\\end{align}\n",
    "\n",
    "This we can easily cast into a model:"
   ]
  },
  {
   "cell_type": "code",
   "execution_count": 2,
   "metadata": {},
   "outputs": [],
   "source": [
    "def exp_decay(t: float, y: Union[float, np.ndarray], lamb: float):\n",
    "    return - lamb * y"
   ]
  },
  {
   "cell_type": "markdown",
   "metadata": {},
   "source": [
    "Small side note: Due to clever operator overloading by NumPy, you can use the above model both for a scalar ODE, i.e. $y\\in\\mathbb{R}$, as well as for any higher dimension $y\\in\\mathbb{R}^n$. In fact, you can do the same with the decay parameter $\\lambda$ - you can initialize it as a NumPy array $\\lambda\\in\\mathbb{R}^n$ to simulate exponential decay with many different growth rates at the same time!"
   ]
  },
  {
   "cell_type": "markdown",
   "metadata": {},
   "source": [
    "## Initial state\n",
    "\n",
    "For any initial value problem (IVP), you need to provide a starting value of the process - that's why it is named that way! Try out different values by editing the cells below."
   ]
  },
  {
   "cell_type": "code",
   "execution_count": 3,
   "metadata": {},
   "outputs": [],
   "source": [
    "t_0 = 0.0\n",
    "y_0 = 1.0  # np.ones(100)\n",
    "lamb = 0.5 # decay rate of 0.5, so we expect half-life to be 2 * ln(2) ~ 1.38\n",
    "\n",
    "\n",
    "initial_state = (t_0, y_0)"
   ]
  },
  {
   "cell_type": "markdown",
   "metadata": {},
   "source": [
    "## Model construction\n",
    "\n",
    "We wrap our exponential decay model into an ODEModel class."
   ]
  },
  {
   "cell_type": "code",
   "execution_count": 4,
   "metadata": {},
   "outputs": [],
   "source": [
    "model = ODEModel(ode_fn=exp_decay, fn_args={\"lamb\": lamb})"
   ]
  },
  {
   "cell_type": "markdown",
   "metadata": {},
   "source": [
    "## Integrator construction\n",
    "\n",
    "To solve our exponential decay differential equation, we instantiate an *Integrator* object, which keeps some useful state around for us."
   ]
  },
  {
   "cell_type": "code",
   "execution_count": 5,
   "metadata": {},
   "outputs": [
    {
     "name": "stderr",
     "output_type": "stream",
     "text": [
      "I1222 21:04:17.087344 4650442240 integrator.py:81] Creating an Integrator instance.\n",
      "I1222 21:04:17.089719 4650442240 integrator.py:59] Created an Integrator instance.\n"
     ]
    }
   ],
   "source": [
    "integrator = Integrator()"
   ]
  },
  {
   "cell_type": "markdown",
   "metadata": {},
   "source": [
    "## Integration\n",
    "\n",
    "That's how easy it is. Now let's solve our equation!"
   ]
  },
  {
   "cell_type": "code",
   "execution_count": 6,
   "metadata": {},
   "outputs": [
    {
     "name": "stderr",
     "output_type": "stream",
     "text": [
      "I1121 20:39:30.828557 4524047872 integrator.py:196] Starting integration.\n",
      "100%|██████████| 10000/10000 [00:00<00:00, 24151.97it/s]\n",
      "I1121 20:39:31.249732 4524047872 integrator.py:215] Finished integration.\n"
     ]
    },
    {
     "data": {
      "text/plain": [
       "<ode_explorer.integrator.Integrator at 0x12da90710>"
      ]
     },
     "execution_count": 6,
     "metadata": {},
     "output_type": "execute_result"
    }
   ],
   "source": [
    "integrator.integrate_const(model=model,\n",
    "                           step_func=RungeKutta4(output_format=\"zipped\"),\n",
    "                           initial_state=initial_state,\n",
    "                           h=0.001,\n",
    "                           num_steps=10000,\n",
    "                           verbosity=1)"
   ]
  },
  {
   "cell_type": "markdown",
   "metadata": {},
   "source": [
    "As we can see from the progress bar, in the scalar case we managed about 24,000 iterations per second with the classical fourth order Runge-Kutta method. A successful numerical integration is called a *run* - let's find our experiment first by listing all runs."
   ]
  },
  {
   "cell_type": "code",
   "execution_count": 7,
   "metadata": {},
   "outputs": [
    {
     "name": "stdout",
     "output_type": "stream",
     "text": [
      "| timestamp                  | run_id                               |\n",
      "|----------------------------|--------------------------------------|\n",
      "| 2020-12-22 21:04:19.936539 | 41bb2aa5-6698-4aeb-8376-e742b4ab4bea |\n"
     ]
    }
   ],
   "source": [
    "integrator.list_runs()"
   ]
  },
  {
   "cell_type": "markdown",
   "metadata": {},
   "source": [
    "And there we have our runs, neatly tabulated. The more experiments you do, the more runs will show up in this table. Each run has its own identifier called *run_id*, which is a UUID generated during the run. \n",
    "\n",
    "We also see that the output format of our step function is \"zipped\" - that means that internally, the step function returns a dictionary of floats instead of a dictionary of state vectors. This is beneficial for later analysis with pandas, but creates a performance hit. Try out the other option if you want - just supply output_format=\"variables\" to the RungeKutta4 constructor.\n",
    "\n",
    "Let us look at the result of our first run - instead of selecting it by the run's ID as you normally would, we can also type \"latest\" to indicate that we want the newest result."
   ]
  },
  {
   "cell_type": "code",
   "execution_count": 8,
   "metadata": {},
   "outputs": [
    {
     "data": {
      "text/html": [
       "<div>\n",
       "<style scoped>\n",
       "    .dataframe tbody tr th:only-of-type {\n",
       "        vertical-align: middle;\n",
       "    }\n",
       "\n",
       "    .dataframe tbody tr th {\n",
       "        vertical-align: top;\n",
       "    }\n",
       "\n",
       "    .dataframe thead th {\n",
       "        text-align: right;\n",
       "    }\n",
       "</style>\n",
       "<table border=\"1\" class=\"dataframe\">\n",
       "  <thead>\n",
       "    <tr style=\"text-align: right;\">\n",
       "      <th></th>\n",
       "      <th>t</th>\n",
       "      <th>y</th>\n",
       "    </tr>\n",
       "  </thead>\n",
       "  <tbody>\n",
       "    <tr>\n",
       "      <th>0</th>\n",
       "      <td>0.000000</td>\n",
       "      <td>1.000000</td>\n",
       "    </tr>\n",
       "    <tr>\n",
       "      <th>1</th>\n",
       "      <td>0.001000</td>\n",
       "      <td>0.999501</td>\n",
       "    </tr>\n",
       "    <tr>\n",
       "      <th>2</th>\n",
       "      <td>0.002996</td>\n",
       "      <td>0.998507</td>\n",
       "    </tr>\n",
       "    <tr>\n",
       "      <th>3</th>\n",
       "      <td>0.006471</td>\n",
       "      <td>0.996782</td>\n",
       "    </tr>\n",
       "    <tr>\n",
       "      <th>4</th>\n",
       "      <td>0.011897</td>\n",
       "      <td>0.994102</td>\n",
       "    </tr>\n",
       "    <tr>\n",
       "      <th>...</th>\n",
       "      <td>...</td>\n",
       "      <td>...</td>\n",
       "    </tr>\n",
       "    <tr>\n",
       "      <th>76</th>\n",
       "      <td>8.909652</td>\n",
       "      <td>0.045433</td>\n",
       "    </tr>\n",
       "    <tr>\n",
       "      <th>77</th>\n",
       "      <td>9.233092</td>\n",
       "      <td>0.041889</td>\n",
       "    </tr>\n",
       "    <tr>\n",
       "      <th>78</th>\n",
       "      <td>9.565099</td>\n",
       "      <td>0.038626</td>\n",
       "    </tr>\n",
       "    <tr>\n",
       "      <th>79</th>\n",
       "      <td>9.906091</td>\n",
       "      <td>0.035627</td>\n",
       "    </tr>\n",
       "    <tr>\n",
       "      <th>80</th>\n",
       "      <td>10.000000</td>\n",
       "      <td>0.034212</td>\n",
       "    </tr>\n",
       "  </tbody>\n",
       "</table>\n",
       "<p>81 rows × 2 columns</p>\n",
       "</div>"
      ],
      "text/plain": [
       "            t         y\n",
       "0    0.000000  1.000000\n",
       "1    0.001000  0.999501\n",
       "2    0.002996  0.998507\n",
       "3    0.006471  0.996782\n",
       "4    0.011897  0.994102\n",
       "..        ...       ...\n",
       "76   8.909652  0.045433\n",
       "77   9.233092  0.041889\n",
       "78   9.565099  0.038626\n",
       "79   9.906091  0.035627\n",
       "80  10.000000  0.034212\n",
       "\n",
       "[81 rows x 2 columns]"
      ]
     },
     "execution_count": 8,
     "metadata": {},
     "output_type": "execute_result"
    }
   ],
   "source": [
    "result = integrator.return_result_data(run_id=\"latest\")\n",
    "\n",
    "result"
   ]
  },
  {
   "cell_type": "markdown",
   "metadata": {},
   "source": [
    "That looks ok - although staring at the numbers is not really the best option here for assessing whether our solution actually makes sense. If you have worked with pandas before, you may have noticed by the print output that the returned \"result\" object is in fact a pandas DataFrame - which can be plotted immediately. Let's do it!"
   ]
  },
  {
   "cell_type": "code",
   "execution_count": 9,
   "metadata": {},
   "outputs": [
    {
     "data": {
      "text/plain": [
       "<AxesSubplot:xlabel='t'>"
      ]
     },
     "execution_count": 9,
     "metadata": {},
     "output_type": "execute_result"
    },
    {
     "data": {
      "image/png": "[encoded data removed]",
      "text/plain": [
       "<Figure size 432x288 with 1 Axes>"
      ]
     },
     "metadata": {
      "needs_background": "light"
     },
     "output_type": "display_data"
    }
   ],
   "source": [
    "result.plot(x=\"t\", y=\"y\")"
   ]
  },
  {
   "cell_type": "markdown",
   "metadata": {},
   "source": [
    "That looks much more familiar! Great job, the general shape of the curve looks correct for our example. But how accurate is the solution really? That is something we cannot directly infer from this graph. And if you had to assert numbers like these for a Mars mission launch, you would surely want a way to validate that your algorithm does not go crazy - a lot could be at stake!\n",
    "\n",
    "Luckily, for an exponential decay model like this, we have a closed form solution available - literally the exponential function. So how about we check our calculations against the real solution?"
   ]
  },
  {
   "cell_type": "markdown",
   "metadata": {},
   "source": [
    "## Solution distance experiment\n",
    "\n",
    "We define our solution, which mathematically is a function $y: \\mathbb{R}\\rightarrow\\mathbb{R}^n$. For the exponential decay model with decay rate $\\lambda$ and initial state $y_0\\in\\mathbb{R}^n$, the exact solution is given for every $t \\geq 0$ as\n",
    "\\begin{equation}\n",
    "\\hat{y}(t) = y_0 \\exp(-\\lambda t).\n",
    "\\end{equation}"
   ]
  },
  {
   "cell_type": "code",
   "execution_count": 10,
   "metadata": {},
   "outputs": [],
   "source": [
    "def sol(t):\n",
    "    return y_0 * np.exp(-lamb * t)"
   ]
  },
  {
   "cell_type": "markdown",
   "metadata": {},
   "source": [
    "Nice! Notice we reused the $y_0$ object from earlier in the notebook. Now we start another integrator run with the same parameters, but this time we add a *Metric*, the *Euclidean distance from the exact solution* $\\hat{y}$\n",
    "\\begin{equation}\n",
    "d(y, \\hat{y}, t) = \\left\\lVert y(t) - \\hat{y}(t) \\right\\rVert_2 = \\sqrt{\\sum_i (y_i - \\hat{y}_i)^2}.\n",
    "\\end{equation}\n",
    "\n",
    "If our algorithm is correct, which it should be (it is a built-in!), the distance should be small throughout the run, indicating an accurate numerical approximation. Fingers crossed!\n",
    "\n",
    "*Tip: You can also calculate other norms, like the maximum norm or the $L_1$ distance between solution and approximation. To try out other norms, pass the **norm** argument in the DistanceToSolution constructor (norm=1 is $L_1$ distance, norm=\"inf\" is maximum norm distance)*"
   ]
  },
  {
   "cell_type": "code",
   "execution_count": 11,
   "metadata": {},
   "outputs": [
    {
     "name": "stderr",
     "output_type": "stream",
     "text": [
      "I1121 20:39:31.957906 4524047872 integrator.py:196] Starting integration.\n",
      "100%|██████████| 10000/10000 [00:00<00:00, 15507.99it/s]\n",
      "I1121 20:39:32.605935 4524047872 integrator.py:215] Finished integration.\n"
     ]
    },
    {
     "data": {
      "text/plain": [
       "<ode_explorer.integrator.Integrator at 0x12da90710>"
      ]
     },
     "execution_count": 11,
     "metadata": {},
     "output_type": "execute_result"
    }
   ],
   "source": [
    "integrator.integrate_const(model=model,\n",
    "                           step_func=RungeKutta4(output_format=\"zipped\"),\n",
    "                           initial_state=initial_state,\n",
    "                           h=0.001,\n",
    "                           num_steps=10000,\n",
    "                           verbosity=1,\n",
    "                           metrics=[DistanceToSolution(solution=sol, name=\"l2_distance\")])"
   ]
  },
  {
   "cell_type": "markdown",
   "metadata": {},
   "source": [
    "Looks like that worked! Let us quickly confirm."
   ]
  },
  {
   "cell_type": "code",
   "execution_count": 12,
   "metadata": {},
   "outputs": [
    {
     "name": "stdout",
     "output_type": "stream",
     "text": [
      "| timestamp                  | run_id                               | stepfunc_output_format   |\n",
      "|----------------------------|--------------------------------------|--------------------------|\n",
      "| 2020-11-21 20:39:30.828394 | 79006e38-aa9e-4a83-951f-04a4498e9dbc | zipped                   |\n",
      "| 2020-11-21 20:39:31.957501 | 92757afd-42d9-40aa-87f2-cdfc56fb9ccd | zipped                   |\n"
     ]
    }
   ],
   "source": [
    "integrator.list_runs()"
   ]
  },
  {
   "cell_type": "markdown",
   "metadata": {},
   "source": [
    "Perfect! There is a new run listed in the table. It should be holding the distance to the solution as metric values. To request the metric data, we can use the *return_metrics* interface exposed by the integrator."
   ]
  },
  {
   "cell_type": "code",
   "execution_count": 9,
   "metadata": {},
   "outputs": [
    {
     "data": {
      "text/html": [
       "<div>\n",
       "<style scoped>\n",
       "    .dataframe tbody tr th:only-of-type {\n",
       "        vertical-align: middle;\n",
       "    }\n",
       "\n",
       "    .dataframe tbody tr th {\n",
       "        vertical-align: top;\n",
       "    }\n",
       "\n",
       "    .dataframe thead th {\n",
       "        text-align: right;\n",
       "    }\n",
       "</style>\n",
       "<table border=\"1\" class=\"dataframe\">\n",
       "  <thead>\n",
       "    <tr style=\"text-align: right;\">\n",
       "      <th></th>\n",
       "      <th>step_size</th>\n",
       "      <th>n_accept</th>\n",
       "      <th>n_reject</th>\n",
       "      <th>iteration</th>\n",
       "    </tr>\n",
       "  </thead>\n",
       "  <tbody>\n",
       "    <tr>\n",
       "      <th>0</th>\n",
       "      <td>0.001000</td>\n",
       "      <td>0</td>\n",
       "      <td>0</td>\n",
       "      <td>NaN</td>\n",
       "    </tr>\n",
       "    <tr>\n",
       "      <th>1</th>\n",
       "      <td>0.001996</td>\n",
       "      <td>1</td>\n",
       "      <td>0</td>\n",
       "      <td>1.0</td>\n",
       "    </tr>\n",
       "    <tr>\n",
       "      <th>2</th>\n",
       "      <td>0.002098</td>\n",
       "      <td>2</td>\n",
       "      <td>0</td>\n",
       "      <td>2.0</td>\n",
       "    </tr>\n",
       "    <tr>\n",
       "      <th>3</th>\n",
       "      <td>0.002183</td>\n",
       "      <td>3</td>\n",
       "      <td>0</td>\n",
       "      <td>3.0</td>\n",
       "    </tr>\n",
       "    <tr>\n",
       "      <th>4</th>\n",
       "      <td>0.002254</td>\n",
       "      <td>4</td>\n",
       "      <td>0</td>\n",
       "      <td>4.0</td>\n",
       "    </tr>\n",
       "    <tr>\n",
       "      <th>...</th>\n",
       "      <td>...</td>\n",
       "      <td>...</td>\n",
       "      <td>...</td>\n",
       "      <td>...</td>\n",
       "    </tr>\n",
       "    <tr>\n",
       "      <th>1094</th>\n",
       "      <td>0.116093</td>\n",
       "      <td>1094</td>\n",
       "      <td>0</td>\n",
       "      <td>1094.0</td>\n",
       "    </tr>\n",
       "    <tr>\n",
       "      <th>1095</th>\n",
       "      <td>0.121607</td>\n",
       "      <td>1095</td>\n",
       "      <td>0</td>\n",
       "      <td>1095.0</td>\n",
       "    </tr>\n",
       "    <tr>\n",
       "      <th>1096</th>\n",
       "      <td>0.127620</td>\n",
       "      <td>1096</td>\n",
       "      <td>0</td>\n",
       "      <td>1096.0</td>\n",
       "    </tr>\n",
       "    <tr>\n",
       "      <th>1097</th>\n",
       "      <td>0.103202</td>\n",
       "      <td>1097</td>\n",
       "      <td>0</td>\n",
       "      <td>1097.0</td>\n",
       "    </tr>\n",
       "    <tr>\n",
       "      <th>1098</th>\n",
       "      <td>0.000000</td>\n",
       "      <td>1098</td>\n",
       "      <td>0</td>\n",
       "      <td>1098.0</td>\n",
       "    </tr>\n",
       "  </tbody>\n",
       "</table>\n",
       "<p>1099 rows × 4 columns</p>\n",
       "</div>"
      ],
      "text/plain": [
       "      step_size  n_accept  n_reject  iteration\n",
       "0      0.001000         0         0        NaN\n",
       "1      0.001996         1         0        1.0\n",
       "2      0.002098         2         0        2.0\n",
       "3      0.002183         3         0        3.0\n",
       "4      0.002254         4         0        4.0\n",
       "...         ...       ...       ...        ...\n",
       "1094   0.116093      1094         0     1094.0\n",
       "1095   0.121607      1095         0     1095.0\n",
       "1096   0.127620      1096         0     1096.0\n",
       "1097   0.103202      1097         0     1097.0\n",
       "1098   0.000000      1098         0     1098.0\n",
       "\n",
       "[1099 rows x 4 columns]"
      ]
     },
     "execution_count": 9,
     "metadata": {},
     "output_type": "execute_result"
    }
   ],
   "source": [
    "metrics = integrator.return_metrics(run_id=\"latest\")\n",
    "\n",
    "metrics"
   ]
  },
  {
   "cell_type": "markdown",
   "metadata": {},
   "source": [
    "Lots of zeros and numbers around machine precision there - that looks promising! The metrics object above is also a pandas DataFrame, so let us plot the solution distance over time:"
   ]
  },
  {
   "cell_type": "code",
   "execution_count": 14,
   "metadata": {},
   "outputs": [
    {
     "data": {
      "text/plain": [
       "<AxesSubplot:>"
      ]
     },
     "execution_count": 14,
     "metadata": {},
     "output_type": "execute_result"
    },
    {
     "data": {
      "image/png": "[encoded data removed]",
      "text/plain": [
       "<Figure size 432x288 with 1 Axes>"
      ]
     },
     "metadata": {
      "needs_background": "light"
     },
     "output_type": "display_data"
    }
   ],
   "source": [
    "metrics.plot()"
   ]
  },
  {
   "cell_type": "markdown",
   "metadata": {},
   "source": [
    "From this plot, it appears that the Euclidean distance of our numerical solution to the exact solution never exceeds $3\\cdot 10^{-14}$ across all 10,000 iterations. Though the distance does not appear to be uniformly at around machine precision ($\\approx 10^{-16}$), but rather periodically increasing and decreasing - an interesting artifact. We can quickly print some statistics, too:"
   ]
  },
  {
   "cell_type": "code",
   "execution_count": 15,
   "metadata": {},
   "outputs": [
    {
     "data": {
      "text/html": [
       "<div>\n",
       "<style scoped>\n",
       "    .dataframe tbody tr th:only-of-type {\n",
       "        vertical-align: middle;\n",
       "    }\n",
       "\n",
       "    .dataframe tbody tr th {\n",
       "        vertical-align: top;\n",
       "    }\n",
       "\n",
       "    .dataframe thead th {\n",
       "        text-align: right;\n",
       "    }\n",
       "</style>\n",
       "<table border=\"1\" class=\"dataframe\">\n",
       "  <thead>\n",
       "    <tr style=\"text-align: right;\">\n",
       "      <th></th>\n",
       "      <th>l2_distance</th>\n",
       "    </tr>\n",
       "  </thead>\n",
       "  <tbody>\n",
       "    <tr>\n",
       "      <th>count</th>\n",
       "      <td>1.000100e+04</td>\n",
       "    </tr>\n",
       "    <tr>\n",
       "      <th>mean</th>\n",
       "      <td>9.958515e-15</td>\n",
       "    </tr>\n",
       "    <tr>\n",
       "      <th>std</th>\n",
       "      <td>8.205534e-15</td>\n",
       "    </tr>\n",
       "    <tr>\n",
       "      <th>min</th>\n",
       "      <td>0.000000e+00</td>\n",
       "    </tr>\n",
       "    <tr>\n",
       "      <th>25%</th>\n",
       "      <td>2.655862e-15</td>\n",
       "    </tr>\n",
       "    <tr>\n",
       "      <th>50%</th>\n",
       "      <td>9.103829e-15</td>\n",
       "    </tr>\n",
       "    <tr>\n",
       "      <th>75%</th>\n",
       "      <td>1.618150e-14</td>\n",
       "    </tr>\n",
       "    <tr>\n",
       "      <th>max</th>\n",
       "      <td>2.473022e-14</td>\n",
       "    </tr>\n",
       "  </tbody>\n",
       "</table>\n",
       "</div>"
      ],
      "text/plain": [
       "        l2_distance\n",
       "count  1.000100e+04\n",
       "mean   9.958515e-15\n",
       "std    8.205534e-15\n",
       "min    0.000000e+00\n",
       "25%    2.655862e-15\n",
       "50%    9.103829e-15\n",
       "75%    1.618150e-14\n",
       "max    2.473022e-14"
      ]
     },
     "execution_count": 15,
     "metadata": {},
     "output_type": "execute_result"
    }
   ],
   "source": [
    "metrics.describe()"
   ]
  },
  {
   "cell_type": "markdown",
   "metadata": {},
   "source": [
    "That confirms what we were seeing. In theory, the classical Runge-Kutta method has order of consistency 4, meaning that the discretization error is globally of $\\mathcal{O}(h^4)$. For a step size of $h = 0.001$ that we chose, this would place us in the range of $10^{-12}$ relative to $h = 1$ (ignoring constants) - which seems all right given our results, and considering that the condition number of the exponential decay equation is not large for $\\lambda = 0.5$, no stiffness effects are coming to haunt us here, either. "
   ]
  },
  {
   "cell_type": "markdown",
   "metadata": {},
   "source": [
    "This concludes the first small demo of the ode-explorer library - if you made it this far, thanks for trying it out, and see you in the next one!"
   ]
  }
 ],
 "metadata": {
  "kernelspec": {
   "display_name": "Python 3",
   "language": "python",
   "name": "python3"
  },
  "language_info": {
   "codemirror_mode": {
    "name": "ipython",
    "version": 3
   },
   "file_extension": ".py",
   "mimetype": "text/x-python",
   "name": "python",
   "nbconvert_exporter": "python",
   "pygments_lexer": "ipython3",
   "version": "3.7.9"
  }
 },
 "nbformat": 4,
 "nbformat_minor": 4
}
